{
 "cells": [
  {
   "cell_type": "code",
   "execution_count": 1,
   "metadata": {},
   "outputs": [],
   "source": [
    "from splmeter.base import BaseModule\n",
    "from splmeter.base import BaseSignal\n",
    "\n",
    "m1 = BaseModule()\n",
    "m1.name = 'm1'\n",
    "m2 = BaseModule()\n",
    "m2.name = 'm2'\n",
    "m3 = BaseModule()\n",
    "m3.name = 'm3'\n",
    "\n",
    "sig = BaseSignal()\n",
    "sig.from_array([1,2,3,4,3,3,4,2,4,2,2,4],3)\n",
    "\n",
    "sig = m1(sig)\n",
    "sig = m2(sig)\n",
    "sig = m3(sig)\n",
    "\n",
    "\n"
   ]
  },
  {
   "cell_type": "code",
   "execution_count": 1,
   "metadata": {},
   "outputs": [
    {
     "name": "stdout",
     "output_type": "stream",
     "text": [
      "48000 [ 0.00534058  0.00631714  0.00698853 ... -0.00509644 -0.00473022\n",
      " -0.00436401]\n"
     ]
    }
   ],
   "source": [
    "from splmeter.signal import SoundPressure\n",
    "from splmeter.measure.frequency import OneThirdOctave \n",
    "import soundfile as sf\n",
    "\n",
    "wav_file = 'C:/Users/Sumeet/Desktop/test.wav'\n",
    "\n",
    "sig,fs = sf.read(wav_file)\n",
    "sig = SoundPressure().from_array(sig,fs)\n",
    "print(sig.fs, sig.amplitude)\n",
    "oto = OneThirdOctave()\n",
    "sig = oto(sig)"
   ]
  },
  {
   "cell_type": "code",
   "execution_count": 4,
   "metadata": {},
   "outputs": [
    {
     "name": "stdout",
     "output_type": "stream",
     "text": [
      "One-Third Octave {'Reference Pressure': 2e-05}\n"
     ]
    }
   ],
   "source": [
    "for op in sig.ops:\n",
    "    print(op.name, op.parameters)"
   ]
  }
 ],
 "metadata": {
  "kernelspec": {
   "display_name": "newenv",
   "language": "python",
   "name": "python3"
  },
  "language_info": {
   "codemirror_mode": {
    "name": "ipython",
    "version": 3
   },
   "file_extension": ".py",
   "mimetype": "text/x-python",
   "name": "python",
   "nbconvert_exporter": "python",
   "pygments_lexer": "ipython3",
   "version": "3.7.9"
  },
  "orig_nbformat": 4
 },
 "nbformat": 4,
 "nbformat_minor": 2
}
